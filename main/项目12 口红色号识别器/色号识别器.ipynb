{
 "cells": [
  {
   "cell_type": "markdown",
   "metadata": {},
   "source": [
    "# 标记五官"
   ]
  },
  {
   "cell_type": "code",
   "execution_count": 82,
   "metadata": {},
   "outputs": [],
   "source": [
    "import numpy as np\n",
    "from collections import Counter\n",
    "from PIL import Image,ImageDraw\n",
    "import face_recognition\n",
    "import colorsys\n",
    "import PIL.Image as Image\n",
    "import json"
   ]
  },
  {
   "cell_type": "code",
   "execution_count": 83,
   "metadata": {},
   "outputs": [
    {
     "name": "stdout",
     "output_type": "stream",
     "text": [
      "<class 'numpy.ndarray'>\n",
      "[(194, 553, 657, 91)]\n",
      "[{'chin': [(157, 370), (160, 420), (172, 470), (194, 523), (216, 574), (240, 626), (266, 677), (295, 721), (341, 738), (401, 730), (466, 698), (527, 656), (584, 605), (621, 543), (636, 469), (639, 391), (638, 315)], 'left_eyebrow': [(129, 293), (144, 279), (167, 282), (193, 292), (219, 304)], 'right_eyebrow': [(304, 291), (350, 271), (399, 259), (450, 267), (497, 286)], 'nose_bridge': [(262, 348), (256, 392), (249, 436), (241, 481)], 'nose_tip': [(237, 506), (251, 516), (269, 522), (288, 515), (310, 508)], 'left_eye': [(164, 347), (178, 325), (209, 326), (237, 351), (207, 363), (178, 364)], 'right_eye': [(346, 347), (368, 318), (407, 318), (442, 336), (412, 355), (375, 357)], 'top_lip': [(243, 597), (243, 570), (260, 556), (279, 562), (300, 553), (344, 568), (391, 593), (374, 592), (306, 586), (285, 588), (266, 587), (253, 595)], 'bottom_lip': [(391, 593), (355, 625), (320, 637), (296, 639), (273, 635), (256, 618), (243, 597), (253, 595), (269, 593), (288, 596), (309, 595), (374, 592)]}]\n"
     ]
    }
   ],
   "source": [
    "\n",
    "path=\"D:\\\\homework\\\\大三下信息系统设计\\\\test9.jpg\"\n",
    "image = face_recognition.load_image_file(path)\n",
    "# Find all the faces in the image\n",
    "print(type(image))\n",
    "face_locations = face_recognition.face_locations(image)\n",
    "print(face_locations)\n",
    "\n",
    "# Or maybe find the facial features in the image\n",
    "face_landmarks_list = face_recognition.face_landmarks(image)\n",
    "print(face_landmarks_list)\n",
    "\n",
    "# Or you could get face encodings for each face in the image:\n",
    "\n",
    "list_of_face_encodings = face_recognition.face_encodings(image)"
   ]
  },
  {
   "cell_type": "code",
   "execution_count": 84,
   "metadata": {},
   "outputs": [],
   "source": [
    "pos = face_locations[0]\n",
    "# pil_image.save(\"quick4.jpg\")"
   ]
  },
  {
   "cell_type": "markdown",
   "metadata": {},
   "source": [
    "# 裁剪出脸部区域"
   ]
  },
  {
   "cell_type": "code",
   "execution_count": 85,
   "metadata": {},
   "outputs": [
    {
     "name": "stdout",
     "output_type": "stream",
     "text": [
      "<class 'PIL.JpegImagePlugin.JpegImageFile'> (665, 1024)\n",
      "<class 'PIL.Image.Image'> (462, 463)\n"
     ]
    }
   ],
   "source": [
    "\n",
    "pil_image =Image.open(path)\n",
    "#pil_image.show()\n",
    "print(type(pil_image),pil_image.size)\n",
    "cropped_face = pil_image.crop((pos[3], pos[0], pos[1], pos[2])) # (left, upper, right, lower) 左上，右下\n",
    "Image._show(cropped_face)\n",
    "print(type(cropped_face),cropped_face.size)\n"
   ]
  },
  {
   "cell_type": "code",
   "execution_count": 86,
   "metadata": {},
   "outputs": [],
   "source": [
    "# 先将嘴部区域选为白色，绘制图片，然后将图片中脸的区域裁剪出来"
   ]
  },
  {
   "cell_type": "code",
   "execution_count": 87,
   "metadata": {},
   "outputs": [
    {
     "name": "stdout",
     "output_type": "stream",
     "text": [
      "(665, 1024) <class 'tuple'>\n"
     ]
    }
   ],
   "source": [
    "pil_image = Image.fromarray(image)\n",
    "a=pil_image.size\n",
    "print(a,type(a))\n",
    "blank_mouse = Image.new('RGB', (a[0],a[1]), (0, 0, 0))\n",
    "for face_landmarks in face_landmarks_list:\n",
    "    d = ImageDraw.Draw(blank_mouse, 'RGBA')\n",
    "    # Gloss the lips\n",
    "    d.polygon(face_landmarks['top_lip'], fill=(255,255,255,255))\n",
    "    d.polygon(face_landmarks['bottom_lip'], fill=(255, 255,255, 255))\n",
    "    d.line(face_landmarks['top_lip'], fill=(255, 255,255, 255), width=1)\n",
    "    d.line(face_landmarks['bottom_lip'], fill=(225, 255, 255,255), width=1)\n",
    "    #blank_mouse.show()\n",
    "blank_mouse=blank_mouse.crop((pos[3], pos[0], pos[1], pos[2])) # (left, upper, right, lower) 左上，右下\n",
    "Image._show(blank_mouse)"
   ]
  },
  {
   "cell_type": "code",
   "execution_count": 88,
   "metadata": {},
   "outputs": [],
   "source": [
    "bottom_lip=face_landmarks_list[0][ 'bottom_lip']"
   ]
  },
  {
   "cell_type": "code",
   "execution_count": 89,
   "metadata": {},
   "outputs": [
    {
     "name": "stdout",
     "output_type": "stream",
     "text": [
      "(463, 462, 3)\n",
      "(463, 462, 3)\n"
     ]
    }
   ],
   "source": [
    "def masklayer(origin,mask):\n",
    "    mask1=np.array(mask)\n",
    "    print(mask1.shape)\n",
    "    origin1=np.array(origin)\n",
    "    print(origin1.shape)\n",
    "    for i in range(len(mask1)):\n",
    "        for j in range(len(mask1[i])):\n",
    "   #          print(mask1[i][j][1])\n",
    "            if (mask1[i][j][1]>=128):#lip\n",
    "                pass\n",
    "            else:#others\n",
    "                origin1[i][j]=[0,0,0]\n",
    "    new_png = Image.fromarray(origin1)\n",
    "    new_png.show()\n",
    "    #new_png.save('C:/Users/MCY/Desktop/test7.JPG')\n",
    "    return new_png\n",
    "cropped=masklayer(cropped_face,blank_mouse)"
   ]
  },
  {
   "cell_type": "markdown",
   "metadata": {},
   "source": [
    "# 查看主要出现的颜色"
   ]
  },
  {
   "cell_type": "code",
   "execution_count": 95,
   "metadata": {},
   "outputs": [],
   "source": [
    "\n",
    "def get_dominant_color(image):\n",
    "    #颜色模式转换，以便输出rgb颜色值\n",
    "    image = image.convert('RGB')\n",
    "     \n",
    "    #生成缩略图，减少计算量，减小cpu压力\n",
    "    image.thumbnail((200, 200))\n",
    "    max_score = 0\n",
    "    dominant_color = 0\n",
    "    for count,(r,g,b) in image.getcolors(image.size[0]*image.size[1]):\n",
    "        if (r<100) :\n",
    "            continue\n",
    "        # 转为HSV标准\n",
    "        saturation = colorsys.rgb_to_hsv(r/255.0, g/255.0, b/255.0)[1]\n",
    "        y = min(abs(r*2104+g*4130+b*802+4096+131072)>>13,235)\n",
    "        y = (y-16.0)/(235-16)\n",
    "  \n",
    "        #忽略高亮色\n",
    "        if y > 0.9:\n",
    "            continue\n",
    "        score = (saturation+0.1)*count\n",
    "        if score > max_score:\n",
    "            max_score = score\n",
    "            dominant_color = (r,g,b)\n",
    "    return dominant_color"
   ]
  },
  {
   "cell_type": "markdown",
   "metadata": {},
   "source": [
    "# 在数据库中查找对应的唇膏颜色"
   ]
  },
  {
   "cell_type": "code",
   "execution_count": 96,
   "metadata": {},
   "outputs": [],
   "source": [
    "import string\n",
    "def hex2rgb(hexarray,RGB_array,len_sum):\n",
    "    value_array=np.zeros((sum,6),int)\n",
    "    for i in range(lensum):\n",
    "        for l in range(6):\n",
    "            temp=hexarray[l+1]\n",
    "            if(temp>='A'and temp<='F'):\n",
    "                temp1=ord(temp)-ord('A')+10\n",
    "            else:\n",
    "                temp1=ord(temp)-ord('0')\n",
    "            value_array[i][l]=temp1\n",
    "        RGB_array[i][0]=value_array[i][0]*16+value_array[i][1]\n",
    "        RGB_array[i][1]=value_array[i][2]*16+value_array[i][3]\n",
    "        RGB_array[i][2]=value_array[i][4]*16+value_array[i][5]\n",
    "    return RGB_array"
   ]
  },
  {
   "cell_type": "code",
   "execution_count": 119,
   "metadata": {},
   "outputs": [
    {
     "name": "stdout",
     "output_type": "stream",
     "text": [
      "[254, 220, 138]\n"
     ]
    }
   ],
   "source": [
    "\n",
    "def RGBhex_2RGB(rgb_hex):\n",
    "#     print(rgb_hex)\n",
    "    RGB=[0,0,0]\n",
    "    temp_num=0\n",
    "    for i in range(len(rgb_hex)):\n",
    "        temp_num=0\n",
    "        temp=rgb_hex[i]\n",
    "        if(i!=0):\n",
    "            #将字母转换为ASCII表中位置\n",
    "            if(temp>='A'and temp<='F'):\n",
    "                temp_num=ord(temp)-55\n",
    "                #将ABCDEF转换为10_15间的数字\n",
    "            else:\n",
    "                #将字符数字转换为0_9间的数字\n",
    "                temp_num=ord(temp)-48\n",
    "            if(i%2==1):\n",
    "                #根据位置乘进制\n",
    "                RGB[int((i/2)-0.5)]=RGB[int((i/2)-0.5)]+16*temp_num\n",
    "            else:\n",
    "                RGB[int((i/2)-0.5)]=RGB[int((i/2)-0.5)]+temp_num\n",
    "#     print(RGB)\n",
    "    return RGB\n",
    "                    \n",
    "print(RGBhex_2RGB('#FEDC8A'))"
   ]
  },
  {
   "cell_type": "code",
   "execution_count": 135,
   "metadata": {},
   "outputs": [
    {
     "name": "stdout",
     "output_type": "stream",
     "text": [
      "获得的口红颜色(185, 38, 122)\n",
      "6\n",
      "Armani has 4 series\n",
      "76\n",
      "YSL has 6 series\n",
      "180\n",
      "香奈儿可可小姐 has 4 series\n",
      "240\n",
      "Dior迪奥 has 7 series\n",
      "371\n",
      "maybelline has 4 series\n",
      "446\n",
      "Givenchy has 7 series\n",
      "537\n",
      "brand_name Armani\n",
      "brand_name YSL\n",
      "brand_name 香奈儿可可小姐\n",
      "brand_name Dior迪奥\n",
      "brand_name maybelline\n",
      "brand_name Givenchy\n",
      "(537, 4)\n",
      "颜色最像的三只口红及其颜色\n",
      "catalog index ['YSL' '纯口红' '玫红色' 'N°19'] (175, 63, 121)\n",
      "catalog index ['Dior迪奥' '烈焰蓝金挚红唇膏' 'none' '755'] (177, 29, 113)\n",
      "catalog index ['YSL' '纯口红' '雅紫纱蓉' 'N°07'] (201, 40, 119)\n",
      "6\n",
      "Armani has 4 series\n",
      "76\n",
      "YSL has 6 series\n",
      "180\n",
      "香奈儿可可小姐 has 4 series\n",
      "240\n",
      "Dior迪奥 has 7 series\n",
      "371\n",
      "maybelline has 4 series\n",
      "446\n",
      "Givenchy has 7 series\n",
      "537\n",
      "brand_name Armani\n",
      "brand_name YSL\n",
      "brand_name 香奈儿可可小姐\n",
      "brand_name Dior迪奥\n",
      "brand_name maybelline\n",
      "brand_name Givenchy\n",
      "(537, 4)\n",
      "颜色最像的三只口红及其颜色\n",
      "catalog index ['Givenchy' '高定香榭红丝绒唇膏' 'Violet Velours ' 'N°42'] (155, 44, 69)\n",
      "catalog index ['Dior迪奥' '魅惑星耀唇膏' 'none' '769'] (159, 47, 71)\n",
      "catalog index ['YSL' '圆管or莹亮纯魅唇膏' '蔓越莓曲奇' 'N°90'] (147, 45, 69)\n"
     ]
    }
   ],
   "source": [
    "import numpy as np\n",
    "import json\n",
    "def operate(target_color):\n",
    "    sum_all=0\n",
    "    with open('D:/homework/大三下信息系统设计/lipstick-gh-pages/lipstick-gh-pages/dist/lipstick.json', 'r', encoding='utf-8') as f:\n",
    "        js2dic = json.load(f)\n",
    "        #读取json\n",
    "        brands_n=len(js2dic['brands'])\n",
    "        print(brands_n)\n",
    "        series_n=0\n",
    "        for brands_i in range(brands_n):\n",
    "            series_n=len(js2dic['brands'][brands_i]['series'])\n",
    "            print(\"{0} has {1} series\".format((js2dic['brands'][brands_i]['name']),series_n))\n",
    "            for series_i in range(series_n):\n",
    "                brand_name=js2dic['brands'][brands_i]['name']\n",
    "                lip_name=js2dic['brands'][brands_i]['series'][series_i]['name']\n",
    "                color_num=len(js2dic['brands'][brands_i]['series'][series_i]['lipsticks'])\n",
    "                sum_all=color_num+sum_all\n",
    "            #计算颜色总数\n",
    "            print(sum_all)\n",
    "        catalog=np.zeros((sum_all,4), dtype=(str,20))\n",
    "        catalog_color=np.zeros((sum_all,3), dtype=int)\n",
    "#         根据颜色数分配空间\n",
    "        rank_color=np.zeros((sum_all,1),dtype=int)\n",
    "        #catalog分为四部分：品牌名称，唇膏名称，色号id，色号值\n",
    "        #将信息存入表格\n",
    "        sum_i=0\n",
    "        for brands_i in range(brands_n):\n",
    "            series_n=len(js2dic['brands'][brands_i]['series'])\n",
    "            print(\"brand_name\",js2dic['brands'][brands_i]['name'])\n",
    "            catalog[sum_i][0]=js2dic['brands'][brands_i]['name']\n",
    "            for series_i in range(series_n):\n",
    "                color_num=len(js2dic['brands'][brands_i]['series'][series_i]['lipsticks'])\n",
    "                for color_i in range(color_num):\n",
    "                    catalog[sum_i][0]=js2dic['brands'][brands_i]['name']\n",
    "                    catalog[sum_i][1]=js2dic['brands'][brands_i]['series'][series_i]['name']\n",
    "                    catalog[sum_i][2]=js2dic['brands'][brands_i]['series'][series_i]['lipsticks'][color_i]['name']\n",
    "                    catalog[sum_i][3]=js2dic['brands'][brands_i]['series'][series_i]['lipsticks'][color_i]['id']\n",
    "                    catalog_color[sum_i]=RGBhex_2RGB(js2dic['brands'][brands_i]['series'][series_i]['lipsticks'][color_i]['color'])\n",
    "                    sum_i+=1\n",
    "#                     print(sum_i)\n",
    "        print(catalog.shape)\n",
    "        RGB_distance=np.zeros((sum_all,1), dtype=float)\n",
    "        for i in range(sum_all):\n",
    "            #计算相似度，target是此前通过domain得到的值\n",
    "            RGB_distance[i]=abs(target_color[0]-catalog_color[i][0])+abs((target_color[1]-catalog_color[i][1])*(1/5))+abs(target_color[2]-catalog_color[i][2])\n",
    "        RGB_distance.tolist()\n",
    "        result=sorted(range(len(RGB_distance)), key=lambda k: RGB_distance[k])\n",
    "#         获得颜色最像的三只口红的（以颜色的相近度为规则排序，返回位置数据）\n",
    "        print(\"颜色最像的三只口红及其颜色\")\n",
    "        result_show=[]\n",
    "        for i in range(3):\n",
    "            loc=result[i]\n",
    "            color_show=tuple(catalog_color[loc])\n",
    "            print(\"catalog index\",catalog[loc],color_show)\n",
    "# operate([155, 44, 69])\n",
    "if __name__ == '__main__':\n",
    "    get=get_dominant_color(cropped)\n",
    "    print(\"获得的口红颜色{0}\".format(get))\n",
    "    #计算相似度，get是此前通过domain得到的值\n",
    "    operate(get)"
   ]
  },
  {
   "cell_type": "code",
   "execution_count": null,
   "metadata": {},
   "outputs": [],
   "source": []
  },
  {
   "cell_type": "code",
   "execution_count": null,
   "metadata": {},
   "outputs": [],
   "source": []
  },
  {
   "cell_type": "code",
   "execution_count": null,
   "metadata": {},
   "outputs": [],
   "source": []
  },
  {
   "cell_type": "code",
   "execution_count": null,
   "metadata": {},
   "outputs": [],
   "source": []
  }
 ],
 "metadata": {
  "kernelspec": {
   "display_name": "Python 3",
   "language": "python",
   "name": "python3"
  },
  "language_info": {
   "codemirror_mode": {
    "name": "ipython",
    "version": 3
   },
   "file_extension": ".py",
   "mimetype": "text/x-python",
   "name": "python",
   "nbconvert_exporter": "python",
   "pygments_lexer": "ipython3",
   "version": "3.6.9"
  }
 },
 "nbformat": 4,
 "nbformat_minor": 2
}
